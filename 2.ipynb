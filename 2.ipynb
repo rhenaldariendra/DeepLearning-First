{
 "cells": [
  {
   "cell_type": "code",
   "execution_count": 1,
   "metadata": {},
   "outputs": [],
   "source": [
    "import numpy as np # linear algebra\n",
    "import pandas as pd # data processing, CSV file I/O (e.g. pd.read_csv)\n",
    "import torch \n",
    "import cv2\n",
    "import torch.nn as nn \n",
    "from torch.utils.data import DataLoader,Dataset\n",
    "import torchvision.transforms as transforms\n",
    "import time\n",
    "import torch.nn.functional as F\n",
    "import torch.optim as optim \n",
    "# Input data files are available in the read-only \"../input/\" directory\n",
    "# For example, running this (by clicking run or pressing Shift+Enter) will list all files under the input directory\n",
    "\n",
    "import os"
   ]
  },
  {
   "cell_type": "code",
   "execution_count": null,
   "metadata": {},
   "outputs": [],
   "source": [
    "REBUILD_DATA = True\n",
    "from tqdm import tqdm\n",
    "class CatsVSDogs():\n",
    "    \n",
    "    # Size of the image\n",
    "    IMG_SIZE = 128\n",
    "    \n",
    "    # Directory location\n",
    "    \n",
    "    CATS = 'dataset/2/PetImages/Cat/'\n",
    "    DOGS = 'dataset/2/PetImages/Dog/'\n",
    "    \n",
    "    LABELS = {CATS:0, DOGS:1}\n",
    "    \n",
    "    training_data = []\n",
    "    catcount = 0\n",
    "    dogcount = 0\n",
    "    \n",
    "    def make_training_data(self):\n",
    "        for label in self.LABELS:\n",
    "            for f in tqdm(os.listdir(label)):\n",
    "                try:\n",
    "                    path = os.path.join(label, f)\n",
    "                    img = cv2.imread(path, cv2.IMREAD_GRAYSCALE)\n",
    "                    img = cv2.resize(img, (self.IMG_SIZE, self.IMG_SIZE))\n",
    "                    self.training_data.append([np.array(img), np.eye(2)[self.LABELS[label]]])\n",
    "                    if label == self.CATS:\n",
    "                        self.catcount += 1\n",
    "                    elif label == self.DOGS:\n",
    "                        self.dogcount += 1\n",
    "                except Exception as e:\n",
    "                    pass\n",
    "\n",
    "            np.random.shuffle(self.training_data)\n",
    "            np.save(\"training_data_128.npy\", self.training_data)\n",
    "            print(\"Cates: \", self.catcount)\n",
    "            print(\"Dogs: \", self.dogcount)\n",
    "            \n",
    "if REBUILD_DATA:\n",
    "    catsvdogs = CatsVSDogs()\n",
    "    catsvdogs.make_training_data()"
   ]
  }
 ],
 "metadata": {
  "interpreter": {
   "hash": "8f51ac50b26c1fa86a4007ffc857cb3f30766fc35223a281526475c0ed80941b"
  },
  "kernelspec": {
   "display_name": "Python 3.7.10 64-bit ('base': conda)",
   "language": "python",
   "name": "python3"
  },
  "language_info": {
   "codemirror_mode": {
    "name": "ipython",
    "version": 3
   },
   "file_extension": ".py",
   "mimetype": "text/x-python",
   "name": "python",
   "nbconvert_exporter": "python",
   "pygments_lexer": "ipython3",
   "version": "3.7.10"
  },
  "orig_nbformat": 4
 },
 "nbformat": 4,
 "nbformat_minor": 2
}
