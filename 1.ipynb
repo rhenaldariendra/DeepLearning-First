{
 "cells": [
  {
   "cell_type": "code",
   "execution_count": 1,
   "metadata": {},
   "outputs": [],
   "source": [
    "import tensorflow as tf\n",
    "import pandas as pd\n",
    "import numpy as np\n",
    "from sklearn.preprocessing import MinMaxScaler, LabelEncoder, StandardScaler\n",
    "from sklearn.preprocessing import OrdinalEncoder\n",
    "from sklearn.preprocessing import OneHotEncoder\n",
    "from sklearn.model_selection import train_test_split\n"
   ]
  },
  {
   "cell_type": "code",
   "execution_count": 46,
   "metadata": {},
   "outputs": [],
   "source": [
    "def import_data():\n",
    "    df = pd.read_csv(\"dataset/1/train.csv\")\n",
    "  \n",
    "    x=df[[\"age\", \"workclass\", \"fnlwgt\", \"educational-num\", \"gender\",\"hours-per-week\"]]\n",
    "    y=df['income_>50K']\n",
    "    return x, y\n",
    "\n",
    "input_dataset, output_dataset = import_data()"
   ]
  },
  {
   "cell_type": "code",
   "execution_count": 47,
   "metadata": {},
   "outputs": [],
   "source": []
  },
  {
   "cell_type": "code",
   "execution_count": 48,
   "metadata": {},
   "outputs": [],
   "source": [
    "input_dataset['gender'] = LabelEncoder().fit_transform(input_dataset['gender'])\n",
    "input_dataset[\"workclass\"] = LabelEncoder().fit_transform(input_dataset[\"workclass\"].astype(str))\n",
    "SS = StandardScaler()\n",
    "input_dataset = SS.fit_transform(input_dataset)\n",
    "x_train, x_test, y_train, y_test = train_test_split( input_dataset, output_dataset, test_size = 0.3, random_state = 0) \n"
   ]
  },
  {
   "cell_type": "code",
   "execution_count": 49,
   "metadata": {},
   "outputs": [],
   "source": []
  },
  {
   "cell_type": "code",
   "execution_count": 50,
   "metadata": {},
   "outputs": [
    {
     "data": {
      "text/plain": [
       "(13188, 1)"
      ]
     },
     "execution_count": 50,
     "metadata": {},
     "output_type": "execute_result"
    }
   ],
   "source": [
    "\n",
    "# y_train = tf.keras.utils.to_categorical(y_train)\n",
    "# y_test = tf.keras.utils.to_categorical(y_test)\n",
    "y_train= y_train.values.reshape(-1,1)\n",
    "y_test = y_test.values.reshape(-1,1)\n",
    "\n",
    "y_test.shape"
   ]
  },
  {
   "cell_type": "code",
   "execution_count": 54,
   "metadata": {},
   "outputs": [
    {
     "name": "stdout",
     "output_type": "stream",
     "text": [
      "\"Hidden\": [[83.72302   98.72135   87.30024   68.09923  ]\n",
      " [ 2.3440747 25.906784  38.97002    4.995641 ]\n",
      " [ 4.371503  33.13823   39.40101   24.23056  ]\n",
      " ...\n",
      " [99.75388   22.181889  84.84568   94.15906  ]\n",
      " [94.89818   44.15198   97.4273    97.29086  ]\n",
      " [48.241573  10.181141  24.07446   80.37952  ]] %\n",
      "\n",
      "Epoch: 0, Loss: 0.11551646888256073\n",
      "Epoch: 200, Loss: 0.0869484692811966\n",
      "Epoch: 400, Loss: 0.07828288525342941\n",
      "Epoch: 600, Loss: 0.07483465224504471\n",
      "Epoch: 800, Loss: 0.07298552244901657\n",
      "Accuracy : 100.0%\n",
      "\n"
     ]
    }
   ],
   "source": [
    "layers = {\n",
    "    'input' : 6,\n",
    "    'hidden' : 4,\n",
    "    'output' : 1\n",
    "}\n",
    "\n",
    "input_hidden = {\n",
    "    \"weight\": tf.Variable(tf.random.normal([layers['input'], layers['hidden']])),\n",
    "    \"bias\": tf.Variable(tf.random.normal([layers['hidden']]))\n",
    "}\n",
    "\n",
    "hidden_output = {\n",
    "    \"weight\": tf.Variable(tf.random.normal([layers['hidden'], layers['output']])),\n",
    "    \"bias\": tf.Variable(tf.random.normal([layers['output']]))\n",
    "}\n",
    "\n",
    "def activation(output):\n",
    "    return tf.nn.sigmoid(output)\n",
    "\n",
    "def feed_forward(input_data):\n",
    "    # Input ke Hidden\n",
    "    x1 = tf.matmul(input_data, input_hidden[\"weight\"] + input_hidden[\"bias\"])\n",
    "    y1 = activation(x1)\n",
    "\n",
    "    # Hidden ke Output\n",
    "    x2 = tf.matmul(y1, hidden_output[\"weight\"] + hidden_output[\"bias\"])\n",
    "    y2 = activation(x2)\n",
    "\n",
    "    return y2, y1\n",
    "\n",
    "# Placeholder\n",
    "input_placeholder = tf.placeholder(tf.float32, [None, layers['input']])\n",
    "output_placeholder = tf.placeholder(tf.float32, [None, layers['output']])\n",
    "\n",
    "output, hiddenOut = feed_forward(input_placeholder)\n",
    "error = tf.reduce_mean(0.5 * (output_placeholder - output)** 2)\n",
    "\n",
    "learning_rate = 0.3\n",
    "train = tf.train.GradientDescentOptimizer(learning_rate).minimize(error)\n",
    "\n",
    "epoch = 1000\n",
    "\n",
    "with tf.Session() as sess:\n",
    "    sess.run(tf.global_variables_initializer())\n",
    "\n",
    "    hidden_dict = {\n",
    "        input_placeholder   : x_train,\n",
    "        output_placeholder  : y_train\n",
    "    }\n",
    "\n",
    "    print(f'\"Hidden\": {sess.run(hiddenOut, feed_dict = hidden_dict) * 100} %\\n')\n",
    "    tf.summary.scalar('Loss', error)\n",
    "    tf.summary.histogram('Weight_to_Hidden', input_hidden['weight'])\n",
    "    \n",
    "\n",
    "    writer = tf.summary.FileWriter(logdir = './summary')\n",
    "    summary = tf.summary.merge_all()\n",
    "\n",
    "    for i in range(epoch):\n",
    "\n",
    "        train_dict = {\n",
    "            input_placeholder : x_train,\n",
    "            output_placeholder : y_train\n",
    "        }\n",
    "\n",
    "        sess.run(train, feed_dict = train_dict)\n",
    "        loss = sess.run(error, feed_dict = train_dict)\n",
    "        \n",
    "        if i % 200 == 0:\n",
    "            print(f\"Epoch: {i}, Loss: {loss}\") \n",
    "\n",
    "    accuracy = tf.equal(tf.argmax(output_placeholder, axis = 1), tf.argmax(output, axis = 1))\n",
    "    result = tf.reduce_mean(tf.cast(accuracy, tf.float32))\n",
    "    \n",
    "    test_dict = {\n",
    "        input_placeholder : x_test,\n",
    "        output_placeholder : y_test\n",
    "    }\n",
    "\n",
    "    print(\"Accuracy : {}%\\n\" .format(sess.run(result, feed_dict = test_dict) * 100))"
   ]
  },
  {
   "cell_type": "code",
   "execution_count": null,
   "metadata": {},
   "outputs": [],
   "source": []
  }
 ],
 "metadata": {
  "interpreter": {
   "hash": "8f51ac50b26c1fa86a4007ffc857cb3f30766fc35223a281526475c0ed80941b"
  },
  "kernelspec": {
   "display_name": "Python 3.7.10 64-bit ('base': conda)",
   "language": "python",
   "name": "python3"
  },
  "language_info": {
   "codemirror_mode": {
    "name": "ipython",
    "version": 3
   },
   "file_extension": ".py",
   "mimetype": "text/x-python",
   "name": "python",
   "nbconvert_exporter": "python",
   "pygments_lexer": "ipython3",
   "version": "3.7.10"
  },
  "orig_nbformat": 4
 },
 "nbformat": 4,
 "nbformat_minor": 2
}
